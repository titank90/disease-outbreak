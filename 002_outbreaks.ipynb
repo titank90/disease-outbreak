{
 "cells": [
  {
   "cell_type": "code",
   "execution_count": 206,
   "metadata": {},
   "outputs": [],
   "source": [
    "import re\n",
    "import pandas as pd\n",
    "import geonamescache\n",
    "from unidecode import unidecode\n",
    "\n",
    "gc = geonamescache.GeonamesCache()\n",
    "cities = gc.get_cities()\n",
    "# print(cities)\n",
    "\n",
    "black_lst = [\"Can\", \"Come\", \"Of\"]\n",
    "city_dict_regexp = {}\n",
    "city_lst = []\n",
    "city_lst_regexp = []\n",
    "city_str = \"\"\n",
    "df_data = []\n",
    "\n",
    "items = cities.items()\n",
    "for item in items:\n",
    "    city = item[1]['name']\n",
    "    countrycode = item[1]['countrycode']\n",
    "    latitude = item[1]['latitude']\n",
    "    longitude = item[1]['longitude']\n",
    "    if city not in black_lst:\n",
    "        city = unidecode(city)\n",
    "        city_dict_regexp[city] = [countrycode, latitude, longitude]\n",
    "\n",
    "city_lst_regexp = [*city_dict_regexp]\n",
    "city_lst_regexp.sort(key = len)  \n",
    "city_lst_regexp.reverse()\n",
    "\n",
    "city_dict_regexp = {k.lower(): v for k, v in city_dict_regexp.items()}\n",
    "\n",
    "city_str = '|'.join(city_lst_regexp)\n",
    "city_str = \"\\\\b(\" + city_str + \")\\\\b\"\n",
    "\n",
    "regexp = re.compile(r\"(?P<city>{cities})\".format(cities=city_str), re.I)\n"
   ]
  },
  {
   "cell_type": "code",
   "execution_count": 207,
   "metadata": {
    "scrolled": true
   },
   "outputs": [],
   "source": [
    "count = 0\n",
    "cnt_ok = 0\n",
    "cnt_nok = 0\n",
    "\n",
    "country_dict = gc.get_countries()\n",
    "\n",
    "with open(\"data/headlines.txt\", \"r\") as fn:\n",
    "    lines = fn.readlines()\n",
    "    for line in lines:\n",
    "        count = count + 1\n",
    "        line = line.strip()\n",
    "        result = regexp.search(line)\n",
    "        if result != None:\n",
    "            cnt_ok += 1\n",
    "            city = result.group('city')\n",
    "            city_hlp = city.lower()\n",
    "            \n",
    "            if city_hlp in city_dict_regexp:\n",
    "                cc = city_dict[city_hlp][0]\n",
    "                country = country_dict[cc]['name']\n",
    "                latitude = city_dict_regexp[city_hlp][1]\n",
    "                longitude = city_dict_regexp[city_hlp][2]\n",
    "                # print(cnt_ok, \"--\", line, \"--\", city, \"--\", latitude, \"--\", longitude, \"--\", cc, \"--\", country)\n",
    "                df_data.append((line, city, latitude, longitude, cc, country))\n",
    "   \n",
    "            else:\n",
    "                None\n",
    "                # print(count, \"DBG-002:\", \"--\", city, \"not found in dictionary\")\n",
    "        else:\n",
    "            cnt_nok +=1\n",
    "            # print(count, \"DBG-001:\", \"--\", line, \"not found in headlines\")\n"
   ]
  },
  {
   "cell_type": "code",
   "execution_count": 208,
   "metadata": {},
   "outputs": [
    {
     "name": "stdout",
     "output_type": "stream",
     "text": [
      "Nr of entries in data frame 613\n",
      "                                  headline           city  latitude  \\\n",
      "0                 Zika Outbreak Hits Miami          Miami  25.77427   \n",
      "1          Could Zika Reach New York City?  New York City  40.71427   \n",
      "2        First Case of Zika in Miami Beach    Miami Beach  25.79065   \n",
      "3  Mystery Virus Spreads in Recife, Brazil         Recife  -8.05389   \n",
      "4  Dallas man comes down with case of Zika         Dallas  44.91928   \n",
      "5        Trinidad confirms first Zika case       Trinidad -33.51650   \n",
      "6   Zika Concerns are Spreading in Houston        Houston  29.76328   \n",
      "7    Geneve Scientists Battle to Find Cure         Geneve  46.20222   \n",
      "8    The CDC in Atlanta is Growing Worried        Atlanta  33.74900   \n",
      "9       Zika Infested Monkeys in Sao Paulo      Sao Paulo -23.54750   \n",
      "\n",
      "   longitude countrycode        country  \n",
      "0  -80.19366          US  United States  \n",
      "1  -74.00597          US  United States  \n",
      "2  -80.13005          US  United States  \n",
      "3  -34.88111          BR         Brazil  \n",
      "4 -123.31705          US  United States  \n",
      "5  -56.89957          UY        Uruguay  \n",
      "6  -95.36327          US  United States  \n",
      "7    6.14569          CH    Switzerland  \n",
      "8  -84.38798          US  United States  \n",
      "9  -46.63611          BR         Brazil  \n"
     ]
    }
   ],
   "source": [
    "df = pd.DataFrame(df_data, columns =['headline', 'city', 'latitude', 'longitude', 'countrycode', 'country'])\n",
    "print(\"Nr of entries in data frame\", df.shape[0])\n",
    "df.to_csv(\"output.csv\", index=False, header=True)\n",
    "print(df.iloc[:10])"
   ]
  },
  {
   "cell_type": "code",
   "execution_count": 209,
   "metadata": {},
   "outputs": [
    {
     "name": "stdout",
     "output_type": "stream",
     "text": [
      "Total nr of headlines: 650\n",
      "Nr OK 613\n",
      "Nr NOK 37\n"
     ]
    }
   ],
   "source": [
    "print(\"Total nr of headlines:\",count)   \n",
    "print(\"Nr OK\",cnt_ok)   \n",
    "print(\"Nr NOK\",cnt_nok)   "
   ]
  },
  {
   "cell_type": "code",
   "execution_count": 210,
   "metadata": {},
   "outputs": [],
   "source": [
    "test = gc.get_cities_by_name('San Bernardino')\n",
    "test2 = gc.get_cities_by_name('Ho Chi Minh City')"
   ]
  },
  {
   "cell_type": "code",
   "execution_count": 211,
   "metadata": {},
   "outputs": [
    {
     "name": "stdout",
     "output_type": "stream",
     "text": [
      "[{'5391710': {'geonameid': 5391710, 'name': 'San Bernardino', 'latitude': 34.10834, 'longitude': -117.28977, 'countrycode': 'US', 'population': 216108, 'timezone': 'America/Los_Angeles', 'admin1code': 'CA'}}]\n"
     ]
    }
   ],
   "source": [
    "print(test)"
   ]
  },
  {
   "cell_type": "code",
   "execution_count": 212,
   "metadata": {},
   "outputs": [
    {
     "name": "stdout",
     "output_type": "stream",
     "text": [
      "[{'1566083': {'geonameid': 1566083, 'name': 'Ho Chi Minh City', 'latitude': 10.82302, 'longitude': 106.62965, 'countrycode': 'VN', 'population': 3467331, 'timezone': 'Asia/Ho_Chi_Minh', 'admin1code': '20'}}]\n"
     ]
    }
   ],
   "source": [
    "print(test2)"
   ]
  },
  {
   "cell_type": "code",
   "execution_count": 213,
   "metadata": {},
   "outputs": [
    {
     "name": "stdout",
     "output_type": "stream",
     "text": [
      "[]\n"
     ]
    }
   ],
   "source": [
    "test3 = gc.get_cities_by_name('Davos')\n",
    "print(test3)"
   ]
  },
  {
   "cell_type": "code",
   "execution_count": null,
   "metadata": {},
   "outputs": [],
   "source": []
  }
 ],
 "metadata": {
  "kernelspec": {
   "display_name": "Python 3",
   "language": "python",
   "name": "python3"
  },
  "language_info": {
   "codemirror_mode": {
    "name": "ipython",
    "version": 3
   },
   "file_extension": ".py",
   "mimetype": "text/x-python",
   "name": "python",
   "nbconvert_exporter": "python",
   "pygments_lexer": "ipython3",
   "version": "3.7.6"
  }
 },
 "nbformat": 4,
 "nbformat_minor": 4
}
