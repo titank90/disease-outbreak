{
 "cells": [
  {
   "cell_type": "code",
   "execution_count": 98,
   "metadata": {},
   "outputs": [],
   "source": [
    "import re\n",
    "import pandas as pd\n",
    "import geonamescache\n",
    "from unidecode import unidecode\n",
    "\n",
    "gc = geonamescache.GeonamesCache()\n",
    "cities = gc.get_cities()\n",
    "\n",
    "black_lst = [\"Can\", \"Come\", \"Of\"]\n",
    "city_dict = {}\n",
    "city_lst = []\n",
    "city_str = \"\"\n",
    "df_data = []\n",
    "\n",
    "items = cities.items()\n",
    "for item in items:\n",
    "    city = item[1]['name']\n",
    "    countrycode = item[1]['countrycode']\n",
    "    if city not in black_lst:\n",
    "        city = unidecode(city)\n",
    "        city_dict[city] = countrycode\n",
    "\n",
    "city_lst = [*city_dict]\n",
    "city_lst.sort(key = len)  \n",
    "city_lst.reverse()\n",
    "\n",
    "city_dict = {k.lower(): v for k, v in city_dict.items()}\n",
    "city_str = '|'.join(city_lst)\n",
    "city_str = \"\\\\b(\" + city_str + \")\\\\b\"\n",
    "\n",
    "regexp = re.compile(r\"(?P<city>{cities})\".format(cities=city_str), re.I)\n"
   ]
  },
  {
   "cell_type": "code",
   "execution_count": 99,
   "metadata": {
    "scrolled": true
   },
   "outputs": [
    {
     "name": "stdout",
     "output_type": "stream",
     "text": [
      "18 DBG-001: -- Louisiana Zika cases up to 26 not found in headlines\n",
      "20 DBG-001: -- Zika infects pregnant woman in Cebu not found in headlines\n",
      "49 DBG-001: -- Spanish Flu Sighted in Antigua not found in headlines\n",
      "74 DBG-001: -- Zika case reported in Oton not found in headlines\n",
      "77 DBG-001: -- Hillsborough uses innovative trap against Zika 20 minutes ago not found in headlines\n",
      "89 DBG-001: -- Maka City Experiences Influenza Outbreak not found in headlines\n",
      "157 DBG-001: -- West Nile Virus Outbreak in Saint Johns not found in headlines\n",
      "235 DBG-001: -- Malaria Exposure in Sussex not found in headlines\n",
      "249 DBG-001: -- Greenwich Establishes Zika Task Force not found in headlines\n",
      "253 DBG-001: -- Will West Nile Virus vaccine help Parsons? not found in headlines\n",
      "271 DBG-001: -- The Spread of Chikungunya in Davidson has been Confirmed not found in headlines\n",
      "287 DBG-001: -- Zika case reported in Los Fresnos not found in headlines\n",
      "309 DBG-001: -- More people in Boucau are infected with HIV every year not found in headlines\n",
      "328 DBG-001: -- Bronchitis Outbreak in Manhasset not found in headlines\n",
      "343 DBG-001: -- Rumors about Influenza Spreading in Dobbs Ferry have been Refuted not found in headlines\n",
      "353 DBG-001: -- Outbreak of Zika in Destin not found in headlines\n",
      "367 DBG-001: -- More people in Huron are infected with Dengue every year not found in headlines\n",
      "379 DBG-001: -- Will Tuberculosis vaccine help Cherry Creek? not found in headlines\n",
      "380 DBG-001: -- Gympie Patient in Critical Condition after Contracting Chlamydia not found in headlines\n",
      "430 DBG-001: -- Spike of Meningitis Cases in Druid Hills not found in headlines\n",
      "461 DBG-001: -- Martinsville tests new cure for Measles not found in headlines\n",
      "464 DBG-001: -- More Patients in Magnolia are Getting Diagnosed with Malaria not found in headlines\n",
      "483 DBG-001: -- Rumors about Syphilis spreading in Penal have been refuted not found in headlines\n",
      "509 DBG-001: -- Fort Belvoir tests new cure for Hepatitis C not found in headlines\n",
      "510 DBG-001: -- More people in Oak Brook are infected with Respiratory Syncytial Virus every year not found in headlines\n",
      "517 DBG-001: -- Outbreak of Zika in Hutchins not found in headlines\n",
      "521 DBG-001: -- Longwood volunteers spreading Zika awareness not found in headlines\n",
      "524 DBG-001: -- Zika symptoms spotted in Quixere not found in headlines\n",
      "568 DBG-001: -- Measles Hits Davos not found in headlines\n",
      "583 DBG-001: -- Spike of Hepatitis E Cases in Morehead City not found in headlines\n",
      "586 DBG-001: -- Outbreak of Zika in Alvorada not found in headlines\n",
      "599 DBG-001: -- Schools in Coamo Closed Due to Rhinovirus Outbreak not found in headlines\n",
      "600 DBG-001: -- Zika arrives in Dangriga not found in headlines\n",
      "605 DBG-001: -- More Patients in Maynard are Getting Diagnosed with Syphilis not found in headlines\n",
      "629 DBG-001: -- Zika case reported in Antioquia not found in headlines\n",
      "631 DBG-001: -- Chikungunya has not Left Pismo Beach not found in headlines\n",
      "632 DBG-001: -- Zika spreads to La Joya not found in headlines\n"
     ]
    }
   ],
   "source": [
    "count = 0\n",
    "cnt_ok = 0\n",
    "cnt_nok = 0\n",
    "\n",
    "country_dict = gc.get_countries()\n",
    "\n",
    "with open(\"data/headlines.txt\", \"r\") as fn:\n",
    "    lines = fn.readlines()\n",
    "    for line in lines:\n",
    "        count = count + 1\n",
    "        line = line.strip()\n",
    "        result = regexp.search(line)\n",
    "        if result != None:\n",
    "            cnt_ok += 1\n",
    "            city = result.group('city')\n",
    "            city_hlp = city.lower()\n",
    "            \n",
    "            if city_hlp in city_dict:\n",
    "                cc = city_dict[city_hlp]\n",
    "                # print(count, \"--\", line, \"--\", city, \"--\", country_dict[cc]['name'])\n",
    "                df_data.append((line, city, country_dict[cc]['name']))\n",
    "   \n",
    "            else:\n",
    "                None\n",
    "                # print(count, \"DBG-002:\", \"--\", city, \"not found in dictionary\")\n",
    "        else:\n",
    "            cnt_nok +=1\n",
    "            print(count, \"DBG-001:\", \"--\", line, \"not found in headlines\")\n"
   ]
  },
  {
   "cell_type": "code",
   "execution_count": 101,
   "metadata": {},
   "outputs": [
    {
     "name": "stdout",
     "output_type": "stream",
     "text": [
      "                                  headline           city        country\n",
      "0                 Zika Outbreak Hits Miami          Miami  United States\n",
      "1          Could Zika Reach New York City?  New York City  United States\n",
      "2        First Case of Zika in Miami Beach    Miami Beach  United States\n",
      "3  Mystery Virus Spreads in Recife, Brazil         Recife         Brazil\n",
      "4  Dallas man comes down with case of Zika         Dallas  United States\n",
      "5        Trinidad confirms first Zika case       Trinidad        Uruguay\n",
      "6   Zika Concerns are Spreading in Houston        Houston  United States\n",
      "7    Geneve Scientists Battle to Find Cure         Geneve    Switzerland\n",
      "8    The CDC in Atlanta is Growing Worried        Atlanta  United States\n",
      "9       Zika Infested Monkeys in Sao Paulo      Sao Paulo         Brazil\n"
     ]
    }
   ],
   "source": [
    "df = pd.DataFrame(df_data, columns =['headline', 'city', 'country'])\n",
    "print(df.iloc[:10])"
   ]
  },
  {
   "cell_type": "code",
   "execution_count": 102,
   "metadata": {},
   "outputs": [
    {
     "name": "stdout",
     "output_type": "stream",
     "text": [
      "Total 650\n",
      "Nr OK 613\n",
      "Nr NOK 37\n"
     ]
    }
   ],
   "source": [
    "print(\"Total\",count)   \n",
    "print(\"Nr OK\",cnt_ok)   \n",
    "print(\"Nr NOK\",cnt_nok)   "
   ]
  },
  {
   "cell_type": "code",
   "execution_count": 49,
   "metadata": {},
   "outputs": [],
   "source": [
    "test = gc.get_cities_by_name('San Bernardino')\n",
    "test2 = gc.get_cities_by_name('Ho Chi Minh City')"
   ]
  },
  {
   "cell_type": "code",
   "execution_count": 50,
   "metadata": {},
   "outputs": [
    {
     "name": "stdout",
     "output_type": "stream",
     "text": [
      "[{'5391710': {'geonameid': 5391710, 'name': 'San Bernardino', 'latitude': 34.10834, 'longitude': -117.28977, 'countrycode': 'US', 'population': 216108, 'timezone': 'America/Los_Angeles', 'admin1code': 'CA'}}]\n"
     ]
    }
   ],
   "source": [
    "print(test)"
   ]
  },
  {
   "cell_type": "code",
   "execution_count": 51,
   "metadata": {},
   "outputs": [
    {
     "name": "stdout",
     "output_type": "stream",
     "text": [
      "[{'1566083': {'geonameid': 1566083, 'name': 'Ho Chi Minh City', 'latitude': 10.82302, 'longitude': 106.62965, 'countrycode': 'VN', 'population': 3467331, 'timezone': 'Asia/Ho_Chi_Minh', 'admin1code': '20'}}]\n"
     ]
    }
   ],
   "source": [
    "print(test2)"
   ]
  },
  {
   "cell_type": "code",
   "execution_count": 52,
   "metadata": {},
   "outputs": [
    {
     "name": "stdout",
     "output_type": "stream",
     "text": [
      "[]\n"
     ]
    }
   ],
   "source": [
    "test3 = gc.get_cities_by_name('Davos')\n",
    "print(test3)"
   ]
  },
  {
   "cell_type": "code",
   "execution_count": null,
   "metadata": {},
   "outputs": [],
   "source": []
  }
 ],
 "metadata": {
  "kernelspec": {
   "display_name": "Python 3",
   "language": "python",
   "name": "python3"
  },
  "language_info": {
   "codemirror_mode": {
    "name": "ipython",
    "version": 3
   },
   "file_extension": ".py",
   "mimetype": "text/x-python",
   "name": "python",
   "nbconvert_exporter": "python",
   "pygments_lexer": "ipython3",
   "version": "3.7.6"
  }
 },
 "nbformat": 4,
 "nbformat_minor": 4
}
